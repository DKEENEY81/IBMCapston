{
 "cells": [
  {
   "cell_type": "markdown",
   "metadata": {},
   "source": [
    "### SELECTING PUBLIC PARK BUILD SITE IN THE CITY OF SYRACUSE, NY"
   ]
  },
  {
   "cell_type": "markdown",
   "metadata": {},
   "source": [
    "### Introduction"
   ]
  },
  {
   "attachments": {},
   "cell_type": "markdown",
   "metadata": {},
   "source": [
    "![image.png](Park-PNG-Transparent-Background.png)\n",
    "\n",
    "\n",
    ">CITY PARKS PLAY A VITAL ROLE IN THE SOCIAL, ECONOMIC, AND PHYSICAL WELL-BEING OF AMERICA’S CITIES AND THEIR RESIDENTS. BUILDING A COMMUNITY PARK IS A TIME INTENSIVE AND COSTLY PROCESS; IT IS THEREFORE IMPORTANT TO SELECT THE PROPER LOCATION TO ENSURE ITS USE AND POSITIVE IMPACT ARE MAXIMIZED.  THE PURPOSE OF THIS ANALYSIS IS IDENTIFY NEIGHBORHOODS IN THE CITY OF SYRACUSE, NY THAT ARE:\n",
    "    1. CURRENTLY UNDERSERVED FROM A PUBLIC PARK PERSPECTIVE\n",
    "    2. RESIDENTIALLY DENSE ENOUGH TO MINIMIZE TRAVEL TIME FOR USERS (AVOIDING PRIMARILY INDUSTRIAL AND COMMERCIAL AREAS)\n",
    "\n"
   ]
  },
  {
   "cell_type": "markdown",
   "metadata": {},
   "source": [
    "### Data"
   ]
  },
  {
   "cell_type": "code",
   "execution_count": null,
   "metadata": {},
   "outputs": [],
   "source": []
  }
 ],
 "metadata": {
  "kernelspec": {
   "display_name": "Python 3",
   "language": "python",
   "name": "python3"
  },
  "language_info": {
   "codemirror_mode": {
    "name": "ipython",
    "version": 3
   },
   "file_extension": ".py",
   "mimetype": "text/x-python",
   "name": "python",
   "nbconvert_exporter": "python",
   "pygments_lexer": "ipython3",
   "version": "3.7.3"
  }
 },
 "nbformat": 4,
 "nbformat_minor": 2
}
